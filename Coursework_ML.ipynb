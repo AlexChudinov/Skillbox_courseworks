{
  "nbformat": 4,
  "nbformat_minor": 0,
  "metadata": {
    "colab": {
      "name": "Copy of Coursework_ML.ipynb",
      "provenance": [],
      "collapsed_sections": []
    },
    "kernelspec": {
      "display_name": "Python 3",
      "language": "python",
      "name": "python3"
    },
    "language_info": {
      "codemirror_mode": {
        "name": "ipython",
        "version": 3
      },
      "file_extension": ".py",
      "mimetype": "text/x-python",
      "name": "python",
      "nbconvert_exporter": "python",
      "pygments_lexer": "ipython3",
      "version": "3.6.3"
    }
  },
  "cells": [
    {
      "cell_type": "markdown",
      "metadata": {
        "id": "BBv-oIFLVYRz"
      },
      "source": [
        "# Курсовая работа. Блок ML Beginner\n",
        "<br>\n",
        "\n",
        "**NB!** Код должен быть с комментариями к каждому логическому блоку кода. В противном случае работа **не** будет принята. <br><br>\n",
        "Выполнение курсовой работы может потребовать использование дополнительных библиотек. Может потребоваться предварительная обработка данных.\n",
        "\n",
        "<br><br>\n",
        "**Описание работы:**\n",
        "&nbsp;&nbsp;&nbsp;&nbsp;\n",
        "<br><br>\n",
        "&nbsp;&nbsp;&nbsp;&nbsp; Любой бизнес хочет максимизировать количество клиентов. Для достижения этой цели важно не только пытаться привлечь новых, но и удерживать уже существующих. Удержать клиента обойдется компании дешевле, чем привлечь нового. Кроме того, новый клиент может оказаться слабо заинтересованным в услугах бизнеса и с ним будет сложно работать, тогда как о старых клиентах уже есть необходимые данные по взаимодействию с сервисом. \n",
        " <br>\n",
        "\n",
        "&nbsp;&nbsp;&nbsp;&nbsp; Соответственно, прогнозируя отток, мы можем вовремя среагировать и попытаться удержать клиента, который хочет уйти. Опираясь на данные об услугах, которыми пользуется клиент, мы можем сделать ему специальное предложение, пытаясь изменить его решение об уходе от оператора. Благодаря этому задача удержания будет легче в реализации, чем задача привлечения новых пользователей, о которых мы еще ничего не знаем.<br>\n",
        "\n",
        "&nbsp;&nbsp;&nbsp;&nbsp; Вам предоставлен набор данных от телекоммуникационной компании. В данных содержится информация о почти шести тысячах пользователей, их демографических характеристиках, услугах, которыми они пользуются, длительности пользования услугами оператора, методе оплаты, размере оплаты. \n",
        "<br>\n",
        "\n",
        "&nbsp;&nbsp;&nbsp;&nbsp; Cтоит задача проанализировать данные и спрогнозировать отток пользователей (выявить людей, которые продлят контракт и которые не продлят). Работа должна включать в себя следующие обязательные пункты: \n",
        "1. Описание данных *(с расчетом базовых статистик)*, \n",
        "2. Исследование зависимостей и формулирование гипотез, \n",
        "3. Построение моделей для прогнозирования оттока *(с обоснованием выбора той или иной модели)* на основе проверенных гипотез и выявленных взаимосвязей, \n",
        "4. Сравнение качества полученных моделей. \n",
        "\n",
        "Во втором разделе обязательно должно присутствовать обоснование гипотез, подробное описание выявленных взаимосвязей, а также их визуализация. \n",
        "<br>В четвертом дополнительно должны быть сформулированы общие выводы работы.\n",
        "\n",
        "<br><br>\n",
        "\n",
        "_________\n",
        "\n",
        "[Codebook](#Codebook) <br>\n",
        "[1. Описание данных](#1.-Описание-данных)<br>\n",
        "[2. Исследование зависимостей и формулирование гипотез](#2.-Исследование-зависимостей-и-формулирование-гипотез)<br>\n",
        "[3. Построение моделей для прогнозирования оттока](#3.-Построение-моделей-для-прогнозирования-оттока)<br>\n",
        "[4. Сравнение качества моделей](#4.-Сравнение-качества-моделей) <br>\n"
      ]
    },
    {
      "cell_type": "markdown",
      "metadata": {
        "id": "2Eh64LGP5deL"
      },
      "source": [
        ""
      ]
    },
    {
      "cell_type": "markdown",
      "metadata": {
        "id": "uZY64JwzVYR6"
      },
      "source": [
        "## Codebook\n",
        "\n",
        "<br>\n",
        "\n",
        "[Ссылка для скачивания данных](https://drive.google.com/open?id=1dPCG76ST6NohYKtVMGv6HpFL-jD5p1eJ) \n",
        "<br><br>\n",
        "\n",
        "`telecom_users.csv` содержит следующие значения:<br><br>\n",
        "\n",
        "&nbsp;&nbsp;&nbsp;&nbsp; `customerID` – id клиента<br>\n",
        "&nbsp;&nbsp;&nbsp;&nbsp; `gender` – пол клиента (male/female)<br>\n",
        "&nbsp;&nbsp;&nbsp;&nbsp; `SeniorCitizen` – яляется ли клиент пенсионером (1, 0)<br>\n",
        "&nbsp;&nbsp;&nbsp;&nbsp; `Partner` – состоит ли клиент в браке (Yes, No)<br>\n",
        "&nbsp;&nbsp;&nbsp;&nbsp; `Dependents` – есть ли у клиента иждивенцы (Yes, No)<br>\n",
        "&nbsp;&nbsp;&nbsp;&nbsp; `tenure` – сколько месяцев человек являлся клиентом компании<br>\n",
        "&nbsp;&nbsp;&nbsp;&nbsp; `PhoneService` – подключена ли услуга телефонной связи (Yes, No)<br>\n",
        "&nbsp;&nbsp;&nbsp;&nbsp; `MultipleLines` – подключены ли несколько телефонных линий (Yes, No, No phone service)<br>\n",
        "&nbsp;&nbsp;&nbsp;&nbsp; `InternetService` – интернет-провайдер клиента (DSL, Fiber optic, No)<br>\n",
        "&nbsp;&nbsp;&nbsp;&nbsp; `OnlineSecurity` – подключена ли услуга онлайн-безопасности (Yes, No, No internet service)<br>\n",
        "&nbsp;&nbsp;&nbsp;&nbsp; `OnlineBackup` – подключена ли услуга online backup (Yes, No, No internet service)<br>\n",
        "&nbsp;&nbsp;&nbsp;&nbsp; `DeviceProtection` – есть ли у клиента страховка оборудования (Yes, No, No internet service)<br>\n",
        "&nbsp;&nbsp;&nbsp;&nbsp; `TechSupport` – подключена ли услуга технической поддержки (Yes, No, No internet service)<br>\n",
        "&nbsp;&nbsp;&nbsp;&nbsp; `StreamingTV` – подключена ли услуга стримингового телевидения (Yes, No, No internet service)<br>\n",
        "&nbsp;&nbsp;&nbsp;&nbsp; `StreamingMovies` – подключена ли услуга стримингового кинотеатра (Yes, No, No internet service)<br>\n",
        "&nbsp;&nbsp;&nbsp;&nbsp; `Contract` – тип контракта клиента (Month-to-month, One year, Two year)<br>\n",
        "&nbsp;&nbsp;&nbsp;&nbsp; `PaperlessBilling` – пользуется ли клиент безбумажным биллингом (Yes, No)<br>\n",
        "&nbsp;&nbsp;&nbsp;&nbsp; `PaymentMethod` – метод оплаты (Electronic check, Mailed check, Bank transfer (automatic), Credit card (automatic))<br>\n",
        "&nbsp;&nbsp;&nbsp;&nbsp; `MonthlyCharges` – месячный размер оплаты на настоящий момент<br>\n",
        "&nbsp;&nbsp;&nbsp;&nbsp; `TotalCharges` – общая сумма, которую клиент заплатил за услуги за все время<br>\n",
        "&nbsp;&nbsp;&nbsp;&nbsp; `Churn` – произошел ли отток (Yes or No)<br>"
      ]
    },
    {
      "cell_type": "markdown",
      "metadata": {
        "id": "sIRCLuWGVYR9"
      },
      "source": [
        "# 1. Описание данных"
      ]
    },
    {
      "cell_type": "code",
      "metadata": {
        "id": "s0fDRVkgVYSA",
        "outputId": "e29eba2a-f50c-4168-86f2-85e475a5acb5",
        "colab": {
          "base_uri": "https://localhost:8080/",
          "height": 346
        }
      },
      "source": [
        "import pandas as pd\n",
        "from pandas.api.types import is_numeric_dtype\n",
        "import numpy as np\n",
        "import matplotlib.pyplot as plt\n",
        "import seaborn as sns\n",
        "\n",
        "df = pd.read_csv('telecom_users.csv', index_col='customerID')\n",
        "\n",
        "df.head()"
      ],
      "execution_count": null,
      "outputs": [
        {
          "output_type": "execute_result",
          "data": {
            "text/html": [
              "<div>\n",
              "<style scoped>\n",
              "    .dataframe tbody tr th:only-of-type {\n",
              "        vertical-align: middle;\n",
              "    }\n",
              "\n",
              "    .dataframe tbody tr th {\n",
              "        vertical-align: top;\n",
              "    }\n",
              "\n",
              "    .dataframe thead th {\n",
              "        text-align: right;\n",
              "    }\n",
              "</style>\n",
              "<table border=\"1\" class=\"dataframe\">\n",
              "  <thead>\n",
              "    <tr style=\"text-align: right;\">\n",
              "      <th></th>\n",
              "      <th>Unnamed: 0</th>\n",
              "      <th>gender</th>\n",
              "      <th>SeniorCitizen</th>\n",
              "      <th>Partner</th>\n",
              "      <th>Dependents</th>\n",
              "      <th>tenure</th>\n",
              "      <th>PhoneService</th>\n",
              "      <th>MultipleLines</th>\n",
              "      <th>InternetService</th>\n",
              "      <th>OnlineSecurity</th>\n",
              "      <th>OnlineBackup</th>\n",
              "      <th>DeviceProtection</th>\n",
              "      <th>TechSupport</th>\n",
              "      <th>StreamingTV</th>\n",
              "      <th>StreamingMovies</th>\n",
              "      <th>Contract</th>\n",
              "      <th>PaperlessBilling</th>\n",
              "      <th>PaymentMethod</th>\n",
              "      <th>MonthlyCharges</th>\n",
              "      <th>TotalCharges</th>\n",
              "      <th>Churn</th>\n",
              "    </tr>\n",
              "    <tr>\n",
              "      <th>customerID</th>\n",
              "      <th></th>\n",
              "      <th></th>\n",
              "      <th></th>\n",
              "      <th></th>\n",
              "      <th></th>\n",
              "      <th></th>\n",
              "      <th></th>\n",
              "      <th></th>\n",
              "      <th></th>\n",
              "      <th></th>\n",
              "      <th></th>\n",
              "      <th></th>\n",
              "      <th></th>\n",
              "      <th></th>\n",
              "      <th></th>\n",
              "      <th></th>\n",
              "      <th></th>\n",
              "      <th></th>\n",
              "      <th></th>\n",
              "      <th></th>\n",
              "      <th></th>\n",
              "    </tr>\n",
              "  </thead>\n",
              "  <tbody>\n",
              "    <tr>\n",
              "      <th>7010-BRBUU</th>\n",
              "      <td>1869</td>\n",
              "      <td>Male</td>\n",
              "      <td>0</td>\n",
              "      <td>Yes</td>\n",
              "      <td>Yes</td>\n",
              "      <td>72</td>\n",
              "      <td>Yes</td>\n",
              "      <td>Yes</td>\n",
              "      <td>No</td>\n",
              "      <td>No internet service</td>\n",
              "      <td>No internet service</td>\n",
              "      <td>No internet service</td>\n",
              "      <td>No internet service</td>\n",
              "      <td>No internet service</td>\n",
              "      <td>No internet service</td>\n",
              "      <td>Two year</td>\n",
              "      <td>No</td>\n",
              "      <td>Credit card (automatic)</td>\n",
              "      <td>24.10</td>\n",
              "      <td>1734.65</td>\n",
              "      <td>No</td>\n",
              "    </tr>\n",
              "    <tr>\n",
              "      <th>9688-YGXVR</th>\n",
              "      <td>4528</td>\n",
              "      <td>Female</td>\n",
              "      <td>0</td>\n",
              "      <td>No</td>\n",
              "      <td>No</td>\n",
              "      <td>44</td>\n",
              "      <td>Yes</td>\n",
              "      <td>No</td>\n",
              "      <td>Fiber optic</td>\n",
              "      <td>No</td>\n",
              "      <td>Yes</td>\n",
              "      <td>Yes</td>\n",
              "      <td>No</td>\n",
              "      <td>Yes</td>\n",
              "      <td>No</td>\n",
              "      <td>Month-to-month</td>\n",
              "      <td>Yes</td>\n",
              "      <td>Credit card (automatic)</td>\n",
              "      <td>88.15</td>\n",
              "      <td>3973.2</td>\n",
              "      <td>No</td>\n",
              "    </tr>\n",
              "    <tr>\n",
              "      <th>9286-DOJGF</th>\n",
              "      <td>6344</td>\n",
              "      <td>Female</td>\n",
              "      <td>1</td>\n",
              "      <td>Yes</td>\n",
              "      <td>No</td>\n",
              "      <td>38</td>\n",
              "      <td>Yes</td>\n",
              "      <td>Yes</td>\n",
              "      <td>Fiber optic</td>\n",
              "      <td>No</td>\n",
              "      <td>No</td>\n",
              "      <td>No</td>\n",
              "      <td>No</td>\n",
              "      <td>No</td>\n",
              "      <td>No</td>\n",
              "      <td>Month-to-month</td>\n",
              "      <td>Yes</td>\n",
              "      <td>Bank transfer (automatic)</td>\n",
              "      <td>74.95</td>\n",
              "      <td>2869.85</td>\n",
              "      <td>Yes</td>\n",
              "    </tr>\n",
              "    <tr>\n",
              "      <th>6994-KERXL</th>\n",
              "      <td>6739</td>\n",
              "      <td>Male</td>\n",
              "      <td>0</td>\n",
              "      <td>No</td>\n",
              "      <td>No</td>\n",
              "      <td>4</td>\n",
              "      <td>Yes</td>\n",
              "      <td>No</td>\n",
              "      <td>DSL</td>\n",
              "      <td>No</td>\n",
              "      <td>No</td>\n",
              "      <td>No</td>\n",
              "      <td>No</td>\n",
              "      <td>No</td>\n",
              "      <td>Yes</td>\n",
              "      <td>Month-to-month</td>\n",
              "      <td>Yes</td>\n",
              "      <td>Electronic check</td>\n",
              "      <td>55.90</td>\n",
              "      <td>238.5</td>\n",
              "      <td>No</td>\n",
              "    </tr>\n",
              "    <tr>\n",
              "      <th>2181-UAESM</th>\n",
              "      <td>432</td>\n",
              "      <td>Male</td>\n",
              "      <td>0</td>\n",
              "      <td>No</td>\n",
              "      <td>No</td>\n",
              "      <td>2</td>\n",
              "      <td>Yes</td>\n",
              "      <td>No</td>\n",
              "      <td>DSL</td>\n",
              "      <td>Yes</td>\n",
              "      <td>No</td>\n",
              "      <td>Yes</td>\n",
              "      <td>No</td>\n",
              "      <td>No</td>\n",
              "      <td>No</td>\n",
              "      <td>Month-to-month</td>\n",
              "      <td>No</td>\n",
              "      <td>Electronic check</td>\n",
              "      <td>53.45</td>\n",
              "      <td>119.5</td>\n",
              "      <td>No</td>\n",
              "    </tr>\n",
              "  </tbody>\n",
              "</table>\n",
              "</div>"
            ],
            "text/plain": [
              "            Unnamed: 0  gender  ...  TotalCharges Churn\n",
              "customerID                      ...                    \n",
              "7010-BRBUU        1869    Male  ...       1734.65    No\n",
              "9688-YGXVR        4528  Female  ...        3973.2    No\n",
              "9286-DOJGF        6344  Female  ...       2869.85   Yes\n",
              "6994-KERXL        6739    Male  ...         238.5    No\n",
              "2181-UAESM         432    Male  ...         119.5    No\n",
              "\n",
              "[5 rows x 21 columns]"
            ]
          },
          "metadata": {
            "tags": []
          },
          "execution_count": 26
        }
      ]
    },
    {
      "cell_type": "markdown",
      "metadata": {
        "id": "IfsYAMmMX1pI"
      },
      "source": [
        "Проверим есть ли в данных пропущенные значения"
      ]
    },
    {
      "cell_type": "code",
      "metadata": {
        "id": "OmjyULf_XwRu",
        "outputId": "ae9a3052-6c4c-47ce-ebd3-f1dcb06f2d36",
        "colab": {
          "base_uri": "https://localhost:8080/",
          "height": 487
        }
      },
      "source": [
        "df.info()"
      ],
      "execution_count": null,
      "outputs": [
        {
          "output_type": "stream",
          "text": [
            "<class 'pandas.core.frame.DataFrame'>\n",
            "Index: 5986 entries, 7010-BRBUU to 4795-UXVCJ\n",
            "Data columns (total 21 columns):\n",
            " #   Column            Non-Null Count  Dtype  \n",
            "---  ------            --------------  -----  \n",
            " 0   Unnamed: 0        5986 non-null   int64  \n",
            " 1   gender            5986 non-null   object \n",
            " 2   SeniorCitizen     5986 non-null   int64  \n",
            " 3   Partner           5986 non-null   object \n",
            " 4   Dependents        5986 non-null   object \n",
            " 5   tenure            5986 non-null   int64  \n",
            " 6   PhoneService      5986 non-null   object \n",
            " 7   MultipleLines     5986 non-null   object \n",
            " 8   InternetService   5986 non-null   object \n",
            " 9   OnlineSecurity    5986 non-null   object \n",
            " 10  OnlineBackup      5986 non-null   object \n",
            " 11  DeviceProtection  5986 non-null   object \n",
            " 12  TechSupport       5986 non-null   object \n",
            " 13  StreamingTV       5986 non-null   object \n",
            " 14  StreamingMovies   5986 non-null   object \n",
            " 15  Contract          5986 non-null   object \n",
            " 16  PaperlessBilling  5986 non-null   object \n",
            " 17  PaymentMethod     5986 non-null   object \n",
            " 18  MonthlyCharges    5986 non-null   float64\n",
            " 19  TotalCharges      5986 non-null   object \n",
            " 20  Churn             5986 non-null   object \n",
            "dtypes: float64(1), int64(3), object(17)\n",
            "memory usage: 1.0+ MB\n"
          ],
          "name": "stdout"
        }
      ]
    },
    {
      "cell_type": "markdown",
      "metadata": {
        "id": "qMu2PhGuYNI_"
      },
      "source": [
        "Сбросим колонку `Unnamed: 0`, так как не понятно, к чему она относится.\n"
      ]
    },
    {
      "cell_type": "code",
      "metadata": {
        "id": "9BiYokRDYMDR",
        "outputId": "61664c60-f1b0-4b7a-fcc4-1fd7055056a2",
        "colab": {
          "base_uri": "https://localhost:8080/",
          "height": 470
        }
      },
      "source": [
        "df.drop(columns=\"Unnamed: 0\", inplace=True)\n",
        "df.info()"
      ],
      "execution_count": null,
      "outputs": [
        {
          "output_type": "stream",
          "text": [
            "<class 'pandas.core.frame.DataFrame'>\n",
            "Index: 5986 entries, 7010-BRBUU to 4795-UXVCJ\n",
            "Data columns (total 20 columns):\n",
            " #   Column            Non-Null Count  Dtype  \n",
            "---  ------            --------------  -----  \n",
            " 0   gender            5986 non-null   object \n",
            " 1   SeniorCitizen     5986 non-null   int64  \n",
            " 2   Partner           5986 non-null   object \n",
            " 3   Dependents        5986 non-null   object \n",
            " 4   tenure            5986 non-null   int64  \n",
            " 5   PhoneService      5986 non-null   object \n",
            " 6   MultipleLines     5986 non-null   object \n",
            " 7   InternetService   5986 non-null   object \n",
            " 8   OnlineSecurity    5986 non-null   object \n",
            " 9   OnlineBackup      5986 non-null   object \n",
            " 10  DeviceProtection  5986 non-null   object \n",
            " 11  TechSupport       5986 non-null   object \n",
            " 12  StreamingTV       5986 non-null   object \n",
            " 13  StreamingMovies   5986 non-null   object \n",
            " 14  Contract          5986 non-null   object \n",
            " 15  PaperlessBilling  5986 non-null   object \n",
            " 16  PaymentMethod     5986 non-null   object \n",
            " 17  MonthlyCharges    5986 non-null   float64\n",
            " 18  TotalCharges      5986 non-null   object \n",
            " 19  Churn             5986 non-null   object \n",
            "dtypes: float64(1), int64(2), object(17)\n",
            "memory usage: 982.1+ KB\n"
          ],
          "name": "stdout"
        }
      ]
    },
    {
      "cell_type": "markdown",
      "metadata": {
        "id": "Whzc_7ubgdG_"
      },
      "source": [
        "`TotalCharges` лучше перевести в числовой формат. Обратим внимание что в колонке `TotalCharges` присутствует строка \" \" в ряду номер 356. Зададим ее значение величиной np.nan. Теперь пропущенные значения есть :)\n",
        "\n",
        "---\n",
        "\n"
      ]
    },
    {
      "cell_type": "code",
      "metadata": {
        "id": "XARe0pCbgmhx",
        "outputId": "59aa46b6-f98f-403c-9172-2946cdabe3f3",
        "colab": {
          "base_uri": "https://localhost:8080/",
          "height": 121
        }
      },
      "source": [
        "df.TotalCharges[df.TotalCharges == \" \"] = np.nan\n",
        "df.TotalCharges = pd.to_numeric(df.TotalCharges)"
      ],
      "execution_count": null,
      "outputs": [
        {
          "output_type": "stream",
          "text": [
            "/usr/local/lib/python3.6/dist-packages/ipykernel_launcher.py:1: SettingWithCopyWarning: \n",
            "A value is trying to be set on a copy of a slice from a DataFrame\n",
            "\n",
            "See the caveats in the documentation: https://pandas.pydata.org/pandas-docs/stable/user_guide/indexing.html#returning-a-view-versus-a-copy\n",
            "  \"\"\"Entry point for launching an IPython kernel.\n"
          ],
          "name": "stderr"
        }
      ]
    },
    {
      "cell_type": "markdown",
      "metadata": {
        "id": "cg-mKv5rfjWG"
      },
      "source": [
        "Визуализируем статистику по числовым колонкам."
      ]
    },
    {
      "cell_type": "code",
      "metadata": {
        "id": "cN_ROJoMfqOL",
        "outputId": "11cb9e39-bc96-43ad-c829-1f092d845239",
        "colab": {
          "base_uri": "https://localhost:8080/",
          "height": 320
        }
      },
      "source": [
        "fig = plt.figure(figsize=(15, 5))\n",
        "ax = plt.subplot(121);\n",
        "ax = df[['MonthlyCharges', 'tenure']].boxplot(ax=ax)\n",
        "ax = plt.subplot(122);\n",
        "ax = df[['TotalCharges']].boxplot(ax=ax)"
      ],
      "execution_count": null,
      "outputs": [
        {
          "output_type": "display_data",
          "data": {
            "image/png": "[encoded data removed]",
            "text/plain": [
              "<Figure size 1080x360 with 2 Axes>"
            ]
          },
          "metadata": {
            "tags": [],
            "needs_background": "light"
          }
        }
      ]
    },
    {
      "cell_type": "markdown",
      "metadata": {
        "id": "cy_lJsviSwTp"
      },
      "source": [
        "Распределение `TotalCharges` сильно ассиметрично и имеет \"хвост\" в сторону больших значений."
      ]
    },
    {
      "cell_type": "markdown",
      "metadata": {
        "id": "rk2xt98_ZwpA"
      },
      "source": [
        "В датасете имеется 5986 записей о 5986 клиентах. Посчитаем распределение клиентов по категориям.\n"
      ]
    },
    {
      "cell_type": "code",
      "metadata": {
        "id": "ezMeqLjzdD0C",
        "outputId": "a5593bfe-ddf9-4395-ac94-28e1c910adf7",
        "colab": {
          "base_uri": "https://localhost:8080/",
          "height": 84
        }
      },
      "source": [
        "print(f\"Процент пенсионеров: {(df.SeniorCitizen == 1).sum()/len(df) * 100. :.2f}\")\n",
        "print(f\"Процент женатых: {(df.Partner == 'Yes').sum()/len(df) * 100. :.2f}\")\n",
        "print(f\"Процент женщин: {(df.gender == 'Female').sum()/len(df) * 100. :.2f}\")\n",
        "print(f\"Процент имеющих иждивенцев: {(df.Dependents == 'Yes').sum()/len(df) * 100. :.2f}\")"
      ],
      "execution_count": null,
      "outputs": [
        {
          "output_type": "stream",
          "text": [
            "Процент пенсионеров: 16.14\n",
            "Процент женатых: 48.51\n",
            "Процент женщин: 49.05\n",
            "Процент имеющих иждивенцев: 29.92\n"
          ],
          "name": "stdout"
        }
      ]
    },
    {
      "cell_type": "markdown",
      "metadata": {
        "id": "7Qelp3xq4eXq"
      },
      "source": [
        "Посчитаем процент ушедших в отток клиентов:"
      ]
    },
    {
      "cell_type": "code",
      "metadata": {
        "id": "DXjd1UlN4c4U",
        "outputId": "da5c3e1e-a8ad-464d-923a-85f8323028f7",
        "colab": {
          "base_uri": "https://localhost:8080/",
          "height": 34
        }
      },
      "source": [
        "print(f\"Процент ушедших в отток: {len(df.Churn[df.Churn == 'Yes']) / len(df) * 100. : .2f}%\")"
      ],
      "execution_count": null,
      "outputs": [
        {
          "output_type": "stream",
          "text": [
            "Процент ушедших в отток:  26.51%\n"
          ],
          "name": "stdout"
        }
      ]
    },
    {
      "cell_type": "markdown",
      "metadata": {
        "id": "dxE41Iei486a"
      },
      "source": [
        "Количества оставшихся и ушедших в отток клиентов не являются хорошо сбалансированными, поскольку количество оставшихся превышает количество ушедших в три раза."
      ]
    },
    {
      "cell_type": "markdown",
      "metadata": {
        "id": "TDUhZEKyVYSN"
      },
      "source": [
        "# 2. Исследование зависимостей и формулирование гипотез"
      ]
    },
    {
      "cell_type": "markdown",
      "metadata": {
        "id": "rDTPXUpsVSzL"
      },
      "source": [
        "Переведем все категориальные данные в числовую форму, создав для этого новые колонки. При этом отсортируем категории так, чтобы числа шли в соответствии с ростом оттока."
      ]
    },
    {
      "cell_type": "code",
      "metadata": {
        "id": "lbekxt4hVYSQ",
        "outputId": "4dd2e23f-064d-4011-c174-c22fc7ba590e",
        "colab": {
          "base_uri": "https://localhost:8080/",
          "height": 722
        }
      },
      "source": [
        "str_to_num = dict()\n",
        "df.loc[df.Churn == 'Yes', 'Churn'] = 0\n",
        "df.loc[df.Churn == 'No', 'Churn'] = 1\n",
        "df.loc[:, 'Churn'] = df.Churn.astype(int)\n",
        "for c in df.columns:\n",
        "  if df[c].dtype == object and c != 'Churn':\n",
        "    num = 0\n",
        "    df[c + '_num'] = 0\n",
        "    for val in df[[c, 'Churn']].groupby(c).mean().sort_values('Churn').reset_index()[c]:\n",
        "      df.loc[df[c] == val, c + '_num'] = num\n",
        "      num += 1\n",
        "    str_to_num[c] = c + '_num'\n",
        "df.info()"
      ],
      "execution_count": null,
      "outputs": [
        {
          "output_type": "stream",
          "text": [
            "<class 'pandas.core.frame.DataFrame'>\n",
            "Index: 5986 entries, 7010-BRBUU to 4795-UXVCJ\n",
            "Data columns (total 35 columns):\n",
            " #   Column                Non-Null Count  Dtype  \n",
            "---  ------                --------------  -----  \n",
            " 0   gender                5986 non-null   object \n",
            " 1   SeniorCitizen         5986 non-null   int64  \n",
            " 2   Partner               5986 non-null   object \n",
            " 3   Dependents            5986 non-null   object \n",
            " 4   tenure                5986 non-null   int64  \n",
            " 5   PhoneService          5986 non-null   object \n",
            " 6   MultipleLines         5986 non-null   object \n",
            " 7   InternetService       5986 non-null   object \n",
            " 8   OnlineSecurity        5986 non-null   object \n",
            " 9   OnlineBackup          5986 non-null   object \n",
            " 10  DeviceProtection      5986 non-null   object \n",
            " 11  TechSupport           5986 non-null   object \n",
            " 12  StreamingTV           5986 non-null   object \n",
            " 13  StreamingMovies       5986 non-null   object \n",
            " 14  Contract              5986 non-null   object \n",
            " 15  PaperlessBilling      5986 non-null   object \n",
            " 16  PaymentMethod         5986 non-null   object \n",
            " 17  MonthlyCharges        5986 non-null   float64\n",
            " 18  TotalCharges          5976 non-null   float64\n",
            " 19  Churn                 5986 non-null   int64  \n",
            " 20  gender_num            5986 non-null   int64  \n",
            " 21  Partner_num           5986 non-null   int64  \n",
            " 22  Dependents_num        5986 non-null   int64  \n",
            " 23  PhoneService_num      5986 non-null   int64  \n",
            " 24  MultipleLines_num     5986 non-null   int64  \n",
            " 25  InternetService_num   5986 non-null   int64  \n",
            " 26  OnlineSecurity_num    5986 non-null   int64  \n",
            " 27  OnlineBackup_num      5986 non-null   int64  \n",
            " 28  DeviceProtection_num  5986 non-null   int64  \n",
            " 29  TechSupport_num       5986 non-null   int64  \n",
            " 30  StreamingTV_num       5986 non-null   int64  \n",
            " 31  StreamingMovies_num   5986 non-null   int64  \n",
            " 32  Contract_num          5986 non-null   int64  \n",
            " 33  PaperlessBilling_num  5986 non-null   int64  \n",
            " 34  PaymentMethod_num     5986 non-null   int64  \n",
            "dtypes: float64(2), int64(18), object(15)\n",
            "memory usage: 1.6+ MB\n"
          ],
          "name": "stdout"
        }
      ]
    },
    {
      "cell_type": "markdown",
      "metadata": {
        "id": "8lQ5Oe2-Yr0Z"
      },
      "source": [
        "Построим матрицу корреляции оттока с различными переменными\n"
      ]
    },
    {
      "cell_type": "code",
      "metadata": {
        "id": "Aa3Nga4qY3gM",
        "outputId": "f798ae01-b54f-477b-bd4e-b275a82dcf2d",
        "colab": {
          "base_uri": "https://localhost:8080/",
          "height": 601
        }
      },
      "source": [
        "numeric_features = list([c for c in df.columns if is_numeric_dtype(df[c])])\n",
        "plt.figure(figsize=(15, 10))\n",
        "plt.rcParams['font.size'] = 20\n",
        "df[numeric_features].corr().Churn.drop(index='Churn').plot.barh(label='correlation with churn')\n",
        "plt.yticks(ticks=range(len(numeric_features) - 1), labels= [n.split('_')[0] for n in numeric_features if n != 'Churn'])\n",
        "plt.axvline(-0.3, color='r', label='weak correllation', alpha=0.6)\n",
        "plt.axvline(0.3, color='r', label='weak correllation', alpha=0.6)\n",
        "plt.legend()\n",
        "plt.box(None)"
      ],
      "execution_count": null,
      "outputs": [
        {
          "output_type": "display_data",
          "data": {
            "image/png": "[encoded data removed]",
            "text/plain": [
              "<Figure size 1080x720 with 1 Axes>"
            ]
          },
          "metadata": {
            "tags": [],
            "needs_background": "light"
          }
        }
      ]
    },
    {
      "cell_type": "markdown",
      "metadata": {
        "id": "MFaGY1bBlM_N"
      },
      "source": [
        "Отток в большинстве случаев очень слабо коррелирует с полученными числовыми переменными. При этом есть слабая корреляция вероятности для клиента остаться компании с количеством месяцев, когда человек являлся клиентом компании: постоянные клиенты реже уходят в отток. Корреляция с оттоком для большей части категориальных переменных является оттчасти искусственной и в большинстве случаев очень слабая, хотя для четырех переменных: `InternetService, OnlineSecurity, TechSupport, Contract` является просто слабой."
      ]
    },
    {
      "cell_type": "markdown",
      "metadata": {
        "id": "EEQwx-13o60f"
      },
      "source": [
        "Можно высказать гипотезу, что переменная `ТотalCharges` должна иметь сильные корреляции с двумя другими переменными: `MonthlyCharges` и `tenure`. Проверим эту гипотезу."
      ]
    },
    {
      "cell_type": "code",
      "metadata": {
        "id": "vdZ6PMuqpnT2",
        "outputId": "9978ce03-6fa8-446f-f15b-6e7a23922d03",
        "colab": {
          "base_uri": "https://localhost:8080/",
          "height": 426
        }
      },
      "source": [
        "ax=sns.heatmap(df[['TotalCharges', 'MonthlyCharges', 'tenure']].corr(), annot=True)"
      ],
      "execution_count": null,
      "outputs": [
        {
          "output_type": "display_data",
          "data": {
            "image/png": "[encoded data removed]",
            "text/plain": [
              "<Figure size 432x288 with 2 Axes>"
            ]
          },
          "metadata": {
            "tags": [],
            "needs_background": "light"
          }
        }
      ]
    },
    {
      "cell_type": "markdown",
      "metadata": {
        "id": "idwsmWC8qkGU"
      },
      "source": [
        "Действительно, `TotalCharges` сильно коррелирует с `tenure` и `MonthlyCharges`. Построим графики соответствующих зависимостей."
      ]
    },
    {
      "cell_type": "code",
      "metadata": {
        "id": "vTDNOnHgrFRF",
        "outputId": "b828b9c5-e0ed-4f16-87fc-4e6a68bcfe81",
        "colab": {
          "base_uri": "https://localhost:8080/",
          "height": 452
        }
      },
      "source": [
        "plt.figure(figsize=(15, 7))\n",
        "plt.rcParams['font.size'] = 16\n",
        "df.plot.scatter(ax=plt.subplot(121), x='tenure', y='TotalCharges')\n",
        "ax = df.plot.scatter(ax=plt.subplot(122), x='MonthlyCharges', y='TotalCharges')"
      ],
      "execution_count": null,
      "outputs": [
        {
          "output_type": "display_data",
          "data": {
            "image/png": "[encoded data removed]",
            "text/plain": [
              "<Figure size 1080x504 with 2 Axes>"
            ]
          },
          "metadata": {
            "tags": [],
            "needs_background": "light"
          }
        }
      ]
    },
    {
      "cell_type": "markdown",
      "metadata": {
        "id": "pRgCa51psSMn"
      },
      "source": [
        "Зависимости располагаются вдоль прямых, таким образом, можно высказать гипотезу, что `TotalCharges` - это произведение величины `tenure` и `MonthlyCharges`"
      ]
    },
    {
      "cell_type": "code",
      "metadata": {
        "id": "0gAQHiF_sg9P",
        "outputId": "c789f98b-48d5-4be2-c82a-a90255faa4e5",
        "colab": {
          "base_uri": "https://localhost:8080/",
          "height": 452
        }
      },
      "source": [
        "plt.figure(figsize=(15, 7))\n",
        "plt.scatter(x=df.tenure*df.MonthlyCharges, y=df.TotalCharges)\n",
        "plt.xlabel('Product of tenure and MontlyCharges')\n",
        "plt.ylabel('TotalCharges')\n",
        "plt.box(None)"
      ],
      "execution_count": null,
      "outputs": [
        {
          "output_type": "display_data",
          "data": {
            "image/png": "[encoded data removed]",
            "text/plain": [
              "<Figure size 1080x504 with 1 Axes>"
            ]
          },
          "metadata": {
            "tags": [],
            "needs_background": "light"
          }
        }
      ]
    },
    {
      "cell_type": "markdown",
      "metadata": {
        "id": "ROhmkZPXs93a"
      },
      "source": [
        "Нет: колонка `TotalCharges` не является прямым произведением колонок `tenure` и `MonthlyCharges`, однако, имеет очень сильную корреляцию с этим произведением."
      ]
    },
    {
      "cell_type": "code",
      "metadata": {
        "id": "VxTvuW6PueK-",
        "outputId": "eadf0120-5ce0-45d5-e34d-dff79a415c47",
        "colab": {
          "base_uri": "https://localhost:8080/",
          "height": 34
        }
      },
      "source": [
        "print(f\"Коэффициент корреляции Пирсона: \" + \n",
        "      f\"{np.corrcoef(df.tenure[df.TotalCharges.notna()]*df.MonthlyCharges[df.TotalCharges.notna()], df.TotalCharges[df.TotalCharges.notna()])[0,1]}\")"
      ],
      "execution_count": null,
      "outputs": [
        {
          "output_type": "stream",
          "text": [
            "Коэффициент корреляции Пирсона: 0.999563610728681\n"
          ],
          "name": "stdout"
        }
      ]
    },
    {
      "cell_type": "markdown",
      "metadata": {
        "id": "hJsBLu3B-gTa"
      },
      "source": [
        "Корреляция `TotalCharges` c `tenure` и `MonthlyCharges` позволяет исключить колонку `TotalCharges` из рассмотрения, поскольку она не несет никакой дополнительной информации."
      ]
    },
    {
      "cell_type": "markdown",
      "metadata": {
        "id": "zL9KjJgOx8wf"
      },
      "source": [
        "Гипотеза: значение `No` в колонке `InternetService` соответствует значению `No internet service` в других колонках "
      ]
    },
    {
      "cell_type": "code",
      "metadata": {
        "id": "_16_My_vz3kA",
        "outputId": "d63d22f8-93c3-4750-f08b-447fc1366941",
        "colab": {
          "base_uri": "https://localhost:8080/",
          "height": 431
        }
      },
      "source": [
        "df[['OnlineSecurity',\t'OnlineBackup',\t'DeviceProtection',\t'TechSupport',\t'StreamingTV', 'StreamingMovies']][df.InternetService == \"No\"]"
      ],
      "execution_count": null,
      "outputs": [
        {
          "output_type": "execute_result",
          "data": {
            "text/html": [
              "<div>\n",
              "<style scoped>\n",
              "    .dataframe tbody tr th:only-of-type {\n",
              "        vertical-align: middle;\n",
              "    }\n",
              "\n",
              "    .dataframe tbody tr th {\n",
              "        vertical-align: top;\n",
              "    }\n",
              "\n",
              "    .dataframe thead th {\n",
              "        text-align: right;\n",
              "    }\n",
              "</style>\n",
              "<table border=\"1\" class=\"dataframe\">\n",
              "  <thead>\n",
              "    <tr style=\"text-align: right;\">\n",
              "      <th></th>\n",
              "      <th>OnlineSecurity</th>\n",
              "      <th>OnlineBackup</th>\n",
              "      <th>DeviceProtection</th>\n",
              "      <th>TechSupport</th>\n",
              "      <th>StreamingTV</th>\n",
              "      <th>StreamingMovies</th>\n",
              "    </tr>\n",
              "    <tr>\n",
              "      <th>customerID</th>\n",
              "      <th></th>\n",
              "      <th></th>\n",
              "      <th></th>\n",
              "      <th></th>\n",
              "      <th></th>\n",
              "      <th></th>\n",
              "    </tr>\n",
              "  </thead>\n",
              "  <tbody>\n",
              "    <tr>\n",
              "      <th>7010-BRBUU</th>\n",
              "      <td>No internet service</td>\n",
              "      <td>No internet service</td>\n",
              "      <td>No internet service</td>\n",
              "      <td>No internet service</td>\n",
              "      <td>No internet service</td>\n",
              "      <td>No internet service</td>\n",
              "    </tr>\n",
              "    <tr>\n",
              "      <th>5115-SQAAU</th>\n",
              "      <td>No internet service</td>\n",
              "      <td>No internet service</td>\n",
              "      <td>No internet service</td>\n",
              "      <td>No internet service</td>\n",
              "      <td>No internet service</td>\n",
              "      <td>No internet service</td>\n",
              "    </tr>\n",
              "    <tr>\n",
              "      <th>0463-TXOAK</th>\n",
              "      <td>No internet service</td>\n",
              "      <td>No internet service</td>\n",
              "      <td>No internet service</td>\n",
              "      <td>No internet service</td>\n",
              "      <td>No internet service</td>\n",
              "      <td>No internet service</td>\n",
              "    </tr>\n",
              "    <tr>\n",
              "      <th>1166-PQLGG</th>\n",
              "      <td>No internet service</td>\n",
              "      <td>No internet service</td>\n",
              "      <td>No internet service</td>\n",
              "      <td>No internet service</td>\n",
              "      <td>No internet service</td>\n",
              "      <td>No internet service</td>\n",
              "    </tr>\n",
              "    <tr>\n",
              "      <th>2692-PFYTJ</th>\n",
              "      <td>No internet service</td>\n",
              "      <td>No internet service</td>\n",
              "      <td>No internet service</td>\n",
              "      <td>No internet service</td>\n",
              "      <td>No internet service</td>\n",
              "      <td>No internet service</td>\n",
              "    </tr>\n",
              "    <tr>\n",
              "      <th>...</th>\n",
              "      <td>...</td>\n",
              "      <td>...</td>\n",
              "      <td>...</td>\n",
              "      <td>...</td>\n",
              "      <td>...</td>\n",
              "      <td>...</td>\n",
              "    </tr>\n",
              "    <tr>\n",
              "      <th>8053-WWDRO</th>\n",
              "      <td>No internet service</td>\n",
              "      <td>No internet service</td>\n",
              "      <td>No internet service</td>\n",
              "      <td>No internet service</td>\n",
              "      <td>No internet service</td>\n",
              "      <td>No internet service</td>\n",
              "    </tr>\n",
              "    <tr>\n",
              "      <th>8908-SLFCJ</th>\n",
              "      <td>No internet service</td>\n",
              "      <td>No internet service</td>\n",
              "      <td>No internet service</td>\n",
              "      <td>No internet service</td>\n",
              "      <td>No internet service</td>\n",
              "      <td>No internet service</td>\n",
              "    </tr>\n",
              "    <tr>\n",
              "      <th>8215-NGSPE</th>\n",
              "      <td>No internet service</td>\n",
              "      <td>No internet service</td>\n",
              "      <td>No internet service</td>\n",
              "      <td>No internet service</td>\n",
              "      <td>No internet service</td>\n",
              "      <td>No internet service</td>\n",
              "    </tr>\n",
              "    <tr>\n",
              "      <th>8044-BGWPI</th>\n",
              "      <td>No internet service</td>\n",
              "      <td>No internet service</td>\n",
              "      <td>No internet service</td>\n",
              "      <td>No internet service</td>\n",
              "      <td>No internet service</td>\n",
              "      <td>No internet service</td>\n",
              "    </tr>\n",
              "    <tr>\n",
              "      <th>4795-UXVCJ</th>\n",
              "      <td>No internet service</td>\n",
              "      <td>No internet service</td>\n",
              "      <td>No internet service</td>\n",
              "      <td>No internet service</td>\n",
              "      <td>No internet service</td>\n",
              "      <td>No internet service</td>\n",
              "    </tr>\n",
              "  </tbody>\n",
              "</table>\n",
              "<p>1291 rows × 6 columns</p>\n",
              "</div>"
            ],
            "text/plain": [
              "                 OnlineSecurity  ...      StreamingMovies\n",
              "customerID                       ...                     \n",
              "7010-BRBUU  No internet service  ...  No internet service\n",
              "5115-SQAAU  No internet service  ...  No internet service\n",
              "0463-TXOAK  No internet service  ...  No internet service\n",
              "1166-PQLGG  No internet service  ...  No internet service\n",
              "2692-PFYTJ  No internet service  ...  No internet service\n",
              "...                         ...  ...                  ...\n",
              "8053-WWDRO  No internet service  ...  No internet service\n",
              "8908-SLFCJ  No internet service  ...  No internet service\n",
              "8215-NGSPE  No internet service  ...  No internet service\n",
              "8044-BGWPI  No internet service  ...  No internet service\n",
              "4795-UXVCJ  No internet service  ...  No internet service\n",
              "\n",
              "[1291 rows x 6 columns]"
            ]
          },
          "metadata": {
            "tags": []
          },
          "execution_count": 39
        }
      ]
    },
    {
      "cell_type": "code",
      "metadata": {
        "id": "H_V4epPz2K58",
        "outputId": "a12f8472-debf-4536-cf78-79fa4027a3ab",
        "colab": {
          "base_uri": "https://localhost:8080/",
          "height": 134
        }
      },
      "source": [
        "df[['OnlineSecurity',\t'OnlineBackup',\t'DeviceProtection',\t'TechSupport',\t'StreamingTV', 'StreamingMovies']][df.InternetService == \"No\"].nunique()"
      ],
      "execution_count": null,
      "outputs": [
        {
          "output_type": "execute_result",
          "data": {
            "text/plain": [
              "OnlineSecurity      1\n",
              "OnlineBackup        1\n",
              "DeviceProtection    1\n",
              "TechSupport         1\n",
              "StreamingTV         1\n",
              "StreamingMovies     1\n",
              "dtype: int64"
            ]
          },
          "metadata": {
            "tags": []
          },
          "execution_count": 40
        }
      ]
    },
    {
      "cell_type": "markdown",
      "metadata": {
        "id": "TRHDleXN2Oa6"
      },
      "source": [
        "Да: значение `No` в колонке `InternetService` соответствует единственному значению `No internet service` в колонках `OnlineSecurity\tOnlineBackup\tDeviceProtection\tTechSupport\tStreamingTV\tStreamingMovies`"
      ]
    },
    {
      "cell_type": "markdown",
      "metadata": {
        "id": "rCBN6kQi220E"
      },
      "source": [
        "Гипотеза: существует корреляция между оттоком и наличием-отсутствием интернета. Для проверки сравним проценты клиентов, ушедших в отток, посчитанные для клиентов с интернетом и клиентов без интернета отдельно."
      ]
    },
    {
      "cell_type": "code",
      "metadata": {
        "id": "s_OdAE3f3zqZ",
        "outputId": "1479d793-1484-44db-905a-fd7153ec94e3",
        "colab": {
          "base_uri": "https://localhost:8080/",
          "height": 379
        }
      },
      "source": [
        "plt.figure(figsize=(10, 6))\n",
        "plt.bar(x=['Нет интернета', 'Есть интернет'], height=[(\n",
        "    df.InternetService[(df.InternetService == 'No') & (df.Churn == 0)].count() / \n",
        "    df.InternetService[(df.InternetService == 'No')].count()\n",
        ") * 100.,\n",
        "(\n",
        "    df.InternetService[(df.InternetService != 'No') & (df.Churn == 0)].count() / \n",
        "    df.InternetService[(df.InternetService != 'No')].count()\n",
        ") * 100.\n",
        "], color=['g', 'm'], alpha=0.6)\n",
        "plt.ylabel('Процент клиентов, ушедших в отток')\n",
        "plt.box(None)"
      ],
      "execution_count": null,
      "outputs": [
        {
          "output_type": "display_data",
          "data": {
            "image/png": "[encoded data removed]",
            "text/plain": [
              "<Figure size 720x432 with 1 Axes>"
            ]
          },
          "metadata": {
            "tags": [],
            "needs_background": "light"
          }
        }
      ]
    },
    {
      "cell_type": "markdown",
      "metadata": {
        "id": "MF-0-w006Vrr"
      },
      "source": [
        "Да, корреляция есть: среди клиентов, у которых был интернет процент оттока получился существенно выше. Добавим отдельную колонку, которая содержит информацию о признаке: наличие/отсутствие интернета."
      ]
    },
    {
      "cell_type": "code",
      "metadata": {
        "id": "nXVRihHfAUl_"
      },
      "source": [
        "df['HasInternet'] = 0\n",
        "df.loc[df.InternetService != 'No', 'HasInternet'] = 1"
      ],
      "execution_count": null,
      "outputs": []
    },
    {
      "cell_type": "code",
      "metadata": {
        "id": "09I4FVmSAibr",
        "outputId": "74e1e3db-2bb9-415b-9662-d048e3459623",
        "colab": {
          "base_uri": "https://localhost:8080/",
          "height": 329
        }
      },
      "source": [
        "df.head()"
      ],
      "execution_count": null,
      "outputs": [
        {
          "output_type": "execute_result",
          "data": {
            "text/html": [
              "<div>\n",
              "<style scoped>\n",
              "    .dataframe tbody tr th:only-of-type {\n",
              "        vertical-align: middle;\n",
              "    }\n",
              "\n",
              "    .dataframe tbody tr th {\n",
              "        vertical-align: top;\n",
              "    }\n",
              "\n",
              "    .dataframe thead th {\n",
              "        text-align: right;\n",
              "    }\n",
              "</style>\n",
              "<table border=\"1\" class=\"dataframe\">\n",
              "  <thead>\n",
              "    <tr style=\"text-align: right;\">\n",
              "      <th></th>\n",
              "      <th>gender</th>\n",
              "      <th>SeniorCitizen</th>\n",
              "      <th>Partner</th>\n",
              "      <th>Dependents</th>\n",
              "      <th>tenure</th>\n",
              "      <th>PhoneService</th>\n",
              "      <th>MultipleLines</th>\n",
              "      <th>InternetService</th>\n",
              "      <th>OnlineSecurity</th>\n",
              "      <th>OnlineBackup</th>\n",
              "      <th>DeviceProtection</th>\n",
              "      <th>TechSupport</th>\n",
              "      <th>StreamingTV</th>\n",
              "      <th>StreamingMovies</th>\n",
              "      <th>Contract</th>\n",
              "      <th>PaperlessBilling</th>\n",
              "      <th>PaymentMethod</th>\n",
              "      <th>MonthlyCharges</th>\n",
              "      <th>TotalCharges</th>\n",
              "      <th>Churn</th>\n",
              "      <th>gender_num</th>\n",
              "      <th>Partner_num</th>\n",
              "      <th>Dependents_num</th>\n",
              "      <th>PhoneService_num</th>\n",
              "      <th>MultipleLines_num</th>\n",
              "      <th>InternetService_num</th>\n",
              "      <th>OnlineSecurity_num</th>\n",
              "      <th>OnlineBackup_num</th>\n",
              "      <th>DeviceProtection_num</th>\n",
              "      <th>TechSupport_num</th>\n",
              "      <th>StreamingTV_num</th>\n",
              "      <th>StreamingMovies_num</th>\n",
              "      <th>Contract_num</th>\n",
              "      <th>PaperlessBilling_num</th>\n",
              "      <th>PaymentMethod_num</th>\n",
              "      <th>HasInternet</th>\n",
              "    </tr>\n",
              "    <tr>\n",
              "      <th>customerID</th>\n",
              "      <th></th>\n",
              "      <th></th>\n",
              "      <th></th>\n",
              "      <th></th>\n",
              "      <th></th>\n",
              "      <th></th>\n",
              "      <th></th>\n",
              "      <th></th>\n",
              "      <th></th>\n",
              "      <th></th>\n",
              "      <th></th>\n",
              "      <th></th>\n",
              "      <th></th>\n",
              "      <th></th>\n",
              "      <th></th>\n",
              "      <th></th>\n",
              "      <th></th>\n",
              "      <th></th>\n",
              "      <th></th>\n",
              "      <th></th>\n",
              "      <th></th>\n",
              "      <th></th>\n",
              "      <th></th>\n",
              "      <th></th>\n",
              "      <th></th>\n",
              "      <th></th>\n",
              "      <th></th>\n",
              "      <th></th>\n",
              "      <th></th>\n",
              "      <th></th>\n",
              "      <th></th>\n",
              "      <th></th>\n",
              "      <th></th>\n",
              "      <th></th>\n",
              "      <th></th>\n",
              "      <th></th>\n",
              "    </tr>\n",
              "  </thead>\n",
              "  <tbody>\n",
              "    <tr>\n",
              "      <th>7010-BRBUU</th>\n",
              "      <td>Male</td>\n",
              "      <td>0</td>\n",
              "      <td>Yes</td>\n",
              "      <td>Yes</td>\n",
              "      <td>72</td>\n",
              "      <td>Yes</td>\n",
              "      <td>Yes</td>\n",
              "      <td>No</td>\n",
              "      <td>No internet service</td>\n",
              "      <td>No internet service</td>\n",
              "      <td>No internet service</td>\n",
              "      <td>No internet service</td>\n",
              "      <td>No internet service</td>\n",
              "      <td>No internet service</td>\n",
              "      <td>Two year</td>\n",
              "      <td>No</td>\n",
              "      <td>Credit card (automatic)</td>\n",
              "      <td>24.10</td>\n",
              "      <td>1734.65</td>\n",
              "      <td>1</td>\n",
              "      <td>1</td>\n",
              "      <td>1</td>\n",
              "      <td>1</td>\n",
              "      <td>0</td>\n",
              "      <td>0</td>\n",
              "      <td>2</td>\n",
              "      <td>2</td>\n",
              "      <td>2</td>\n",
              "      <td>2</td>\n",
              "      <td>2</td>\n",
              "      <td>2</td>\n",
              "      <td>2</td>\n",
              "      <td>2</td>\n",
              "      <td>1</td>\n",
              "      <td>3</td>\n",
              "      <td>0</td>\n",
              "    </tr>\n",
              "    <tr>\n",
              "      <th>9688-YGXVR</th>\n",
              "      <td>Female</td>\n",
              "      <td>0</td>\n",
              "      <td>No</td>\n",
              "      <td>No</td>\n",
              "      <td>44</td>\n",
              "      <td>Yes</td>\n",
              "      <td>No</td>\n",
              "      <td>Fiber optic</td>\n",
              "      <td>No</td>\n",
              "      <td>Yes</td>\n",
              "      <td>Yes</td>\n",
              "      <td>No</td>\n",
              "      <td>Yes</td>\n",
              "      <td>No</td>\n",
              "      <td>Month-to-month</td>\n",
              "      <td>Yes</td>\n",
              "      <td>Credit card (automatic)</td>\n",
              "      <td>88.15</td>\n",
              "      <td>3973.20</td>\n",
              "      <td>1</td>\n",
              "      <td>0</td>\n",
              "      <td>0</td>\n",
              "      <td>0</td>\n",
              "      <td>0</td>\n",
              "      <td>2</td>\n",
              "      <td>0</td>\n",
              "      <td>0</td>\n",
              "      <td>1</td>\n",
              "      <td>1</td>\n",
              "      <td>0</td>\n",
              "      <td>1</td>\n",
              "      <td>0</td>\n",
              "      <td>0</td>\n",
              "      <td>0</td>\n",
              "      <td>3</td>\n",
              "      <td>1</td>\n",
              "    </tr>\n",
              "    <tr>\n",
              "      <th>9286-DOJGF</th>\n",
              "      <td>Female</td>\n",
              "      <td>1</td>\n",
              "      <td>Yes</td>\n",
              "      <td>No</td>\n",
              "      <td>38</td>\n",
              "      <td>Yes</td>\n",
              "      <td>Yes</td>\n",
              "      <td>Fiber optic</td>\n",
              "      <td>No</td>\n",
              "      <td>No</td>\n",
              "      <td>No</td>\n",
              "      <td>No</td>\n",
              "      <td>No</td>\n",
              "      <td>No</td>\n",
              "      <td>Month-to-month</td>\n",
              "      <td>Yes</td>\n",
              "      <td>Bank transfer (automatic)</td>\n",
              "      <td>74.95</td>\n",
              "      <td>2869.85</td>\n",
              "      <td>0</td>\n",
              "      <td>0</td>\n",
              "      <td>1</td>\n",
              "      <td>0</td>\n",
              "      <td>0</td>\n",
              "      <td>0</td>\n",
              "      <td>0</td>\n",
              "      <td>0</td>\n",
              "      <td>0</td>\n",
              "      <td>0</td>\n",
              "      <td>0</td>\n",
              "      <td>0</td>\n",
              "      <td>0</td>\n",
              "      <td>0</td>\n",
              "      <td>0</td>\n",
              "      <td>2</td>\n",
              "      <td>1</td>\n",
              "    </tr>\n",
              "    <tr>\n",
              "      <th>6994-KERXL</th>\n",
              "      <td>Male</td>\n",
              "      <td>0</td>\n",
              "      <td>No</td>\n",
              "      <td>No</td>\n",
              "      <td>4</td>\n",
              "      <td>Yes</td>\n",
              "      <td>No</td>\n",
              "      <td>DSL</td>\n",
              "      <td>No</td>\n",
              "      <td>No</td>\n",
              "      <td>No</td>\n",
              "      <td>No</td>\n",
              "      <td>No</td>\n",
              "      <td>Yes</td>\n",
              "      <td>Month-to-month</td>\n",
              "      <td>Yes</td>\n",
              "      <td>Electronic check</td>\n",
              "      <td>55.90</td>\n",
              "      <td>238.50</td>\n",
              "      <td>1</td>\n",
              "      <td>1</td>\n",
              "      <td>0</td>\n",
              "      <td>0</td>\n",
              "      <td>0</td>\n",
              "      <td>2</td>\n",
              "      <td>1</td>\n",
              "      <td>0</td>\n",
              "      <td>0</td>\n",
              "      <td>0</td>\n",
              "      <td>0</td>\n",
              "      <td>0</td>\n",
              "      <td>1</td>\n",
              "      <td>0</td>\n",
              "      <td>0</td>\n",
              "      <td>0</td>\n",
              "      <td>1</td>\n",
              "    </tr>\n",
              "    <tr>\n",
              "      <th>2181-UAESM</th>\n",
              "      <td>Male</td>\n",
              "      <td>0</td>\n",
              "      <td>No</td>\n",
              "      <td>No</td>\n",
              "      <td>2</td>\n",
              "      <td>Yes</td>\n",
              "      <td>No</td>\n",
              "      <td>DSL</td>\n",
              "      <td>Yes</td>\n",
              "      <td>No</td>\n",
              "      <td>Yes</td>\n",
              "      <td>No</td>\n",
              "      <td>No</td>\n",
              "      <td>No</td>\n",
              "      <td>Month-to-month</td>\n",
              "      <td>No</td>\n",
              "      <td>Electronic check</td>\n",
              "      <td>53.45</td>\n",
              "      <td>119.50</td>\n",
              "      <td>1</td>\n",
              "      <td>1</td>\n",
              "      <td>0</td>\n",
              "      <td>0</td>\n",
              "      <td>0</td>\n",
              "      <td>2</td>\n",
              "      <td>1</td>\n",
              "      <td>1</td>\n",
              "      <td>0</td>\n",
              "      <td>1</td>\n",
              "      <td>0</td>\n",
              "      <td>0</td>\n",
              "      <td>0</td>\n",
              "      <td>0</td>\n",
              "      <td>1</td>\n",
              "      <td>0</td>\n",
              "      <td>1</td>\n",
              "    </tr>\n",
              "  </tbody>\n",
              "</table>\n",
              "</div>"
            ],
            "text/plain": [
              "            gender  SeniorCitizen  ... PaymentMethod_num HasInternet\n",
              "customerID                         ...                              \n",
              "7010-BRBUU    Male              0  ...                 3           0\n",
              "9688-YGXVR  Female              0  ...                 3           1\n",
              "9286-DOJGF  Female              1  ...                 2           1\n",
              "6994-KERXL    Male              0  ...                 0           1\n",
              "2181-UAESM    Male              0  ...                 0           1\n",
              "\n",
              "[5 rows x 36 columns]"
            ]
          },
          "metadata": {
            "tags": []
          },
          "execution_count": 43
        }
      ]
    },
    {
      "cell_type": "markdown",
      "metadata": {
        "id": "YnZrI40dVYSZ"
      },
      "source": [
        "# 3. Построение моделей для прогнозирования оттока"
      ]
    },
    {
      "cell_type": "markdown",
      "metadata": {
        "id": "J3uwaXH_7pqq"
      },
      "source": [
        "Определим матрицу признаков и вектор значений целевой функции, исключив целевую переменную и `TotalCharges`, которые с высокой точностью являются просто произведением колонок `MonthlyCharges` и `tenure`, и, добавив колонку `HasInternet`."
      ]
    },
    {
      "cell_type": "code",
      "metadata": {
        "id": "wwrrkx8pVYSa"
      },
      "source": [
        "numeric_features = list(set(numeric_features) - {'Churn', 'TotalCharges'}) + ['HasInternet']\n",
        "X = df[numeric_features].values\n",
        "y = df.Churn"
      ],
      "execution_count": null,
      "outputs": []
    },
    {
      "cell_type": "markdown",
      "metadata": {
        "id": "KN0K8Q4JBMVE"
      },
      "source": [
        "Сделаем Z-преобразование шкалы признаков."
      ]
    },
    {
      "cell_type": "code",
      "metadata": {
        "id": "nMIs1m7ABLxd"
      },
      "source": [
        "from sklearn.preprocessing import StandardScaler\n",
        "\n",
        "Xn = StandardScaler().fit_transform(X)"
      ],
      "execution_count": null,
      "outputs": []
    },
    {
      "cell_type": "markdown",
      "metadata": {
        "id": "R_8SS1BWGFDV"
      },
      "source": [
        "Построим модель логистической регрессии для предсказания оттока клиентов, подобрав наилучшие значения для параметра регуляризации и солвер."
      ]
    },
    {
      "cell_type": "code",
      "metadata": {
        "id": "dryksZ3FHw4b",
        "outputId": "72bf017c-3c90-427e-eea5-4298253a2f88",
        "colab": {
          "base_uri": "https://localhost:8080/",
          "height": 166
        }
      },
      "source": [
        "from sklearn.linear_model import LogisticRegression, LinearRegression\n",
        "from sklearn.model_selection import GridSearchCV, StratifiedKFold, cross_val_score\n",
        "from sklearn.metrics import recall_score, roc_auc_score\n",
        "\n",
        "#optimized parameters\n",
        "lr_params_optimized = \\\n",
        "{\n",
        "    'C': 0.1, \n",
        "    'random_state': 17, \n",
        "    'solver': 'sag',\n",
        "    'max_iter': 1000\n",
        "}\n",
        "\n",
        "lr_params = {'C':  10 ** np.arange(-2., 1.), 'solver': ['newton-cg', 'lbfgs', 'liblinear', 'sag', 'saga']}\n",
        "\n",
        "skf = StratifiedKFold(n_splits=5, random_state=17, shuffle=True)\n",
        "\n",
        "if lr_params_optimized is None:\n",
        "  logr = GridSearchCV(LogisticRegression(max_iter=1000, random_state=17), param_grid=lr_params, scoring='roc_auc', cv=skf)\\\n",
        "    .fit(Xn, y).best_estimator_\n",
        "  lr_params_optimized = logr.get_params()\n",
        "else:\n",
        "  logr = LogisticRegression(**lr_params_optimized).fit(Xn, y)\n",
        "\n",
        "pd.DataFrame(lr_params_optimized, index=['Optimized logistic regression params']).transpose()"
      ],
      "execution_count": null,
      "outputs": [
        {
          "output_type": "execute_result",
          "data": {
            "text/html": [
              "<div>\n",
              "<style scoped>\n",
              "    .dataframe tbody tr th:only-of-type {\n",
              "        vertical-align: middle;\n",
              "    }\n",
              "\n",
              "    .dataframe tbody tr th {\n",
              "        vertical-align: top;\n",
              "    }\n",
              "\n",
              "    .dataframe thead th {\n",
              "        text-align: right;\n",
              "    }\n",
              "</style>\n",
              "<table border=\"1\" class=\"dataframe\">\n",
              "  <thead>\n",
              "    <tr style=\"text-align: right;\">\n",
              "      <th></th>\n",
              "      <th>Optimized logistic regression params</th>\n",
              "    </tr>\n",
              "  </thead>\n",
              "  <tbody>\n",
              "    <tr>\n",
              "      <th>C</th>\n",
              "      <td>0.1</td>\n",
              "    </tr>\n",
              "    <tr>\n",
              "      <th>random_state</th>\n",
              "      <td>17</td>\n",
              "    </tr>\n",
              "    <tr>\n",
              "      <th>solver</th>\n",
              "      <td>sag</td>\n",
              "    </tr>\n",
              "    <tr>\n",
              "      <th>max_iter</th>\n",
              "      <td>1000</td>\n",
              "    </tr>\n",
              "  </tbody>\n",
              "</table>\n",
              "</div>"
            ],
            "text/plain": [
              "             Optimized logistic regression params\n",
              "C                                             0.1\n",
              "random_state                                   17\n",
              "solver                                        sag\n",
              "max_iter                                     1000"
            ]
          },
          "metadata": {
            "tags": []
          },
          "execution_count": 76
        }
      ]
    },
    {
      "cell_type": "markdown",
      "metadata": {
        "id": "nn9xCsc5IWOU"
      },
      "source": [
        "Модель решающих деревьев для предсказания оттока клиентов. Подбираем критерий расщепления, число фич, по которым происходит расщепление, и минимальное количество сэмплов в листе."
      ]
    },
    {
      "cell_type": "code",
      "metadata": {
        "id": "sUk8GmWXIVhP",
        "outputId": "30f824d5-369a-4f22-b114-d002581d905f",
        "colab": {
          "base_uri": "https://localhost:8080/",
          "height": 166
        }
      },
      "source": [
        "from sklearn.tree import DecisionTreeClassifier\n",
        "\n",
        "dt_params_optimized = \\\n",
        "{\n",
        "    'criterion' : 'gini',\n",
        "    'max_features' : 14,\n",
        "    'min_samples_leaf' : 101,\n",
        "    'random_state' : 17\n",
        "}\n",
        "\n",
        "dt_params = {\n",
        "    'max_features' : np.arange(1, len(numeric_features) - 3), \n",
        "    'criterion' : ['gini', 'entropy'],\n",
        "    'min_samples_leaf' : np.arange(1,1000,10)}\n",
        "\n",
        "if dt_params_optimized is None:\n",
        "  dt = GridSearchCV(DecisionTreeClassifier(random_state=17), param_grid=dt_params, scoring='roc_auc', cv=skf)\\\n",
        "    .fit(Xn, y).best_estimator_\n",
        "  dt_params_optimized = dt.get_params()\n",
        "else:\n",
        "  dt = DecisionTreeClassifier(**dt_params_optimized).fit(Xn, y)\n",
        "\n",
        "pd.DataFrame(dt_params_optimized, index=['Optimized decision tree params']).transpose()"
      ],
      "execution_count": null,
      "outputs": [
        {
          "output_type": "execute_result",
          "data": {
            "text/html": [
              "<div>\n",
              "<style scoped>\n",
              "    .dataframe tbody tr th:only-of-type {\n",
              "        vertical-align: middle;\n",
              "    }\n",
              "\n",
              "    .dataframe tbody tr th {\n",
              "        vertical-align: top;\n",
              "    }\n",
              "\n",
              "    .dataframe thead th {\n",
              "        text-align: right;\n",
              "    }\n",
              "</style>\n",
              "<table border=\"1\" class=\"dataframe\">\n",
              "  <thead>\n",
              "    <tr style=\"text-align: right;\">\n",
              "      <th></th>\n",
              "      <th>Optimized decision tree params</th>\n",
              "    </tr>\n",
              "  </thead>\n",
              "  <tbody>\n",
              "    <tr>\n",
              "      <th>criterion</th>\n",
              "      <td>gini</td>\n",
              "    </tr>\n",
              "    <tr>\n",
              "      <th>max_features</th>\n",
              "      <td>14</td>\n",
              "    </tr>\n",
              "    <tr>\n",
              "      <th>min_samples_leaf</th>\n",
              "      <td>101</td>\n",
              "    </tr>\n",
              "    <tr>\n",
              "      <th>random_state</th>\n",
              "      <td>17</td>\n",
              "    </tr>\n",
              "  </tbody>\n",
              "</table>\n",
              "</div>"
            ],
            "text/plain": [
              "                 Optimized decision tree params\n",
              "criterion                                  gini\n",
              "max_features                                 14\n",
              "min_samples_leaf                            101\n",
              "random_state                                 17"
            ]
          },
          "metadata": {
            "tags": []
          },
          "execution_count": 63
        }
      ]
    },
    {
      "cell_type": "markdown",
      "metadata": {
        "id": "qiYf4XFJvKe0"
      },
      "source": [
        "Модель опорных векторов, оптимизируем ядро и параметр регуляризации."
      ]
    },
    {
      "cell_type": "code",
      "metadata": {
        "id": "AA9mzoztvWcD",
        "outputId": "babe8a7e-7f4b-4ee7-8c95-3ce06e6fb904",
        "colab": {
          "base_uri": "https://localhost:8080/",
          "height": 106
        }
      },
      "source": [
        "from sklearn.svm import SVC\n",
        "\n",
        "svc_params_optimized = \\\n",
        "{\n",
        "    'random_state' : 17,\n",
        "    'C' : 0.01\n",
        "}\n",
        "\n",
        "svc_params = {\n",
        "    \"C\" : 10 ** np.arange(-3., 1.)\n",
        "}\n",
        "\n",
        "if svc_params_optimized is None:\n",
        "  svc = GridSearchCV(SVC(random_state=17), param_grid=svc_params, scoring='roc_auc', cv=skf)\\\n",
        "    .fit(Xn, y).best_estimator_\n",
        "  svc_params_optimized = svc.get_params()\n",
        "else:\n",
        "  svc = SVC(**svc_params_optimized).fit(Xn, y)\n",
        "\n",
        "pd.DataFrame(svc_params_optimized, index=['Optimized support vector machine params']).transpose()"
      ],
      "execution_count": null,
      "outputs": [
        {
          "output_type": "execute_result",
          "data": {
            "text/html": [
              "<div>\n",
              "<style scoped>\n",
              "    .dataframe tbody tr th:only-of-type {\n",
              "        vertical-align: middle;\n",
              "    }\n",
              "\n",
              "    .dataframe tbody tr th {\n",
              "        vertical-align: top;\n",
              "    }\n",
              "\n",
              "    .dataframe thead th {\n",
              "        text-align: right;\n",
              "    }\n",
              "</style>\n",
              "<table border=\"1\" class=\"dataframe\">\n",
              "  <thead>\n",
              "    <tr style=\"text-align: right;\">\n",
              "      <th></th>\n",
              "      <th>Optimized support vector machine params</th>\n",
              "    </tr>\n",
              "  </thead>\n",
              "  <tbody>\n",
              "    <tr>\n",
              "      <th>random_state</th>\n",
              "      <td>17.00</td>\n",
              "    </tr>\n",
              "    <tr>\n",
              "      <th>C</th>\n",
              "      <td>0.01</td>\n",
              "    </tr>\n",
              "  </tbody>\n",
              "</table>\n",
              "</div>"
            ],
            "text/plain": [
              "              Optimized support vector machine params\n",
              "random_state                                    17.00\n",
              "C                                                0.01"
            ]
          },
          "metadata": {
            "tags": []
          },
          "execution_count": 66
        }
      ]
    },
    {
      "cell_type": "markdown",
      "metadata": {
        "id": "bHcECNPGFICY"
      },
      "source": [
        "Метод ближайших соседей, оптимизираем число ближайших соседей"
      ]
    },
    {
      "cell_type": "code",
      "metadata": {
        "id": "MdKOIJ6uEV16"
      },
      "source": [
        "from sklearn.neighbors import KNeighborsClassifier\n",
        "\n",
        "knc_params_optimized = \\\n",
        "{\n",
        "    \"n_neighbors\" : 19\n",
        "}\n",
        "\n",
        "knc_params = {\n",
        "    \"n_neighbors\" : np.arange(3, 20)\n",
        "}\n",
        "\n",
        "if knc_params_optimized is None:\n",
        "  knc = GridSearchCV(KNeighborsClassifier(), param_grid=knc_params, scoring='roc_auc', cv=skf)\\\n",
        "    .fit(Xn, y).best_estimator_\n",
        "  knc_params_optimized = knc.get_params()\n",
        "else:\n",
        "  knc = KNeighborsClassifier(**knc_params_optimized).fit(Xn, y)\n",
        "\n",
        "pd.DataFrame(knc_params_optimized, index=['Optimized k-neighbor classifier params']).transpose()"
      ],
      "execution_count": null,
      "outputs": []
    },
    {
      "cell_type": "markdown",
      "metadata": {
        "id": "KDJLZO_NIk7y"
      },
      "source": [
        "Стэкинг логистической регрессии, деревьев, svc и KNeighborsClassifier, c деревом решений в качестве мета-алгоритма"
      ]
    },
    {
      "cell_type": "code",
      "metadata": {
        "id": "3MhuaRmA3GOx",
        "outputId": "fad54819-b62d-40ce-d64d-cf3ef904370b",
        "colab": {
          "base_uri": "https://localhost:8080/",
          "height": 166
        }
      },
      "source": [
        "from sklearn.ensemble import StackingClassifier\n",
        "\n",
        "meta_params_optimized = \\\n",
        "{\n",
        "    'C': 0.01, \n",
        "    'random_state': 17, \n",
        "    'solver': 'newton-cg',\n",
        "    'max_iter': 5000\n",
        "}\n",
        "\n",
        "meta_mtx = np.array([logr.predict(Xn), dt.predict(Xn), svc.predict(Xn)]).T\n",
        "\n",
        "if meta_params_optimized is None:\n",
        "  meta = GridSearchCV(LogisticRegression(max_iter=5000), param_grid=lr_params, scoring='roc_auc', cv=skf)\\\n",
        "    .fit(meta_mtx, y).best_estimator_\n",
        "  meta_params_optimized = meta.get_params()\n",
        "else:\n",
        "  meta = LogisticRegression(**meta_params_optimized).fit(meta_mtx, y)\n",
        "\n",
        "st = StackingClassifier(estimators=\n",
        "                        [\n",
        "                         ('LogisticRegression', logr), \n",
        "                         ('DecisionTree', dt), \n",
        "                         ('SVM', svc),\n",
        "                         ('KNeighborsClassifier', knc)\n",
        "                         ], \n",
        "                        final_estimator=meta, cv=skf)\n",
        "\n",
        "pd.DataFrame(meta_params_optimized, index=['Optimized meta-classifier params']).transpose()"
      ],
      "execution_count": null,
      "outputs": [
        {
          "output_type": "execute_result",
          "data": {
            "text/html": [
              "<div>\n",
              "<style scoped>\n",
              "    .dataframe tbody tr th:only-of-type {\n",
              "        vertical-align: middle;\n",
              "    }\n",
              "\n",
              "    .dataframe tbody tr th {\n",
              "        vertical-align: top;\n",
              "    }\n",
              "\n",
              "    .dataframe thead th {\n",
              "        text-align: right;\n",
              "    }\n",
              "</style>\n",
              "<table border=\"1\" class=\"dataframe\">\n",
              "  <thead>\n",
              "    <tr style=\"text-align: right;\">\n",
              "      <th></th>\n",
              "      <th>Optimized meta-classifier params</th>\n",
              "    </tr>\n",
              "  </thead>\n",
              "  <tbody>\n",
              "    <tr>\n",
              "      <th>C</th>\n",
              "      <td>0.01</td>\n",
              "    </tr>\n",
              "    <tr>\n",
              "      <th>random_state</th>\n",
              "      <td>17</td>\n",
              "    </tr>\n",
              "    <tr>\n",
              "      <th>solver</th>\n",
              "      <td>newton-cg</td>\n",
              "    </tr>\n",
              "    <tr>\n",
              "      <th>max_iter</th>\n",
              "      <td>5000</td>\n",
              "    </tr>\n",
              "  </tbody>\n",
              "</table>\n",
              "</div>"
            ],
            "text/plain": [
              "             Optimized meta-classifier params\n",
              "C                                        0.01\n",
              "random_state                               17\n",
              "solver                              newton-cg\n",
              "max_iter                                 5000"
            ]
          },
          "metadata": {
            "tags": []
          },
          "execution_count": 92
        }
      ]
    },
    {
      "cell_type": "markdown",
      "metadata": {
        "id": "uyDpeHkTVYSf"
      },
      "source": [
        "# 4. Сравнение качества моделей "
      ]
    },
    {
      "cell_type": "markdown",
      "metadata": {
        "id": "p25k7qn_Yb02"
      },
      "source": [
        "Сравним полученные модели с использованием метрики ROC-AUC"
      ]
    },
    {
      "cell_type": "code",
      "metadata": {
        "id": "mryxTDJoVYSh",
        "outputId": "618f0b6a-951f-45fa-c4da-261087cbf026",
        "colab": {
          "base_uri": "https://localhost:8080/",
          "height": 101
        }
      },
      "source": [
        "from sklearn.model_selection import train_test_split\n",
        "\n",
        "X_train, X_test, y_train, y_test = train_test_split(Xn, y, test_size = 0.2, random_state=17)\n",
        "\n",
        "dt.fit(X_train, y_train)\n",
        "logr.fit(X_train, y_train)\n",
        "svc.fit(X_train, y_train)\n",
        "knc.fit(X_train, y_train)\n",
        "st.fit(X_train, y_train)\n",
        "print(f'Decision tree classifier: ROC-AUC = {roc_auc_score(y_test, dt.predict_proba(X_test)[:,1])}')\n",
        "print(f'Logistic regression: ROC-AUC = {roc_auc_score(y_test, logr.predict_proba(X_test)[:,1])}')\n",
        "print(f'SVM classifier: ROC-AUC = {roc_auc_score(y_test, svc.decision_function(X_test))}')\n",
        "print(f'K-neighbours classifier: ROC-AUC={roc_auc_score(y_test, knc.predict_proba(X_test)[:, 1])}')\n",
        "print(f'Stacking classifier: ROC-AUC = {roc_auc_score(y_test, st.predict_proba(X_test)[:, 1])}')"
      ],
      "execution_count": null,
      "outputs": [
        {
          "output_type": "stream",
          "text": [
            "Decision tree classifier: ROC-AUC = 0.8282676301928849\n",
            "Logistic regression: ROC-AUC = 0.8350033256035521\n",
            "SVM classifier: ROC-AUC = 0.8119649822934081\n",
            "K-neighbours classifier: ROC-AUC=0.807132970213378\n",
            "Stacking classifier: ROC-AUC = 0.8366319725323123\n"
          ],
          "name": "stdout"
        }
      ]
    },
    {
      "cell_type": "markdown",
      "metadata": {
        "id": "kS0eerDXIB1j"
      },
      "source": [
        "Сравним полученные модели по тому, насколько полно они предсказывают тех клиентов, которые останутся преданы компании."
      ]
    },
    {
      "cell_type": "code",
      "metadata": {
        "id": "JYa6zVsIHpVL",
        "outputId": "d599c3a2-9e5e-4a40-d2ed-5dbf8543f142",
        "colab": {
          "base_uri": "https://localhost:8080/",
          "height": 101
        }
      },
      "source": [
        "print(f'Decision tree classifier: RECALL = {recall_score(y_test, dt.predict(X_test))}')\n",
        "print(f'Logistic regression: RECALL = {recall_score(y_test, logr.predict(X_test))}')\n",
        "print(f'SVM classifier: RECALL = {recall_score(y_test, svc.predict(X_test))}')\n",
        "print(f'K-neighbours classifier: RECALL={recall_score(y_test, knc.predict(X_test))}')\n",
        "print(f'Stacking classifier: RECALL = {recall_score(y_test, st.predict(X_test))}')"
      ],
      "execution_count": null,
      "outputs": [
        {
          "output_type": "stream",
          "text": [
            "Decision tree classifier: RECALL = 0.9173272933182333\n",
            "Logistic regression: RECALL = 0.9048697621744054\n",
            "SVM classifier: RECALL = 1.0\n",
            "K-neighbours classifier: RECALL=0.8799546998867497\n",
            "Stacking classifier: RECALL = 0.9592298980747452\n"
          ],
          "name": "stdout"
        }
      ]
    },
    {
      "cell_type": "markdown",
      "metadata": {
        "id": "aY93QJ14Gz7j"
      },
      "source": [
        "**Выводы:** Лучше всего преданность клиентов телефонной компании предсказывается методом опорных векторов. При этом результат по ROC AUC получается лучше для логистической регрессии. Заметим, что результат использования стэкинга равен результату лучшего классификатора в обоих случаях. Таким образом, стекинг позволяет получить классификатор, который меньше зависим от выбора метрики.\n"
      ]
    }
  ]
}